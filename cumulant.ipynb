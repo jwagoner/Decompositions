{
 "cells": [
  {
   "cell_type": "code",
   "execution_count": 1,
   "metadata": {
    "collapsed": false
   },
   "outputs": [],
   "source": [
    "from sympy import *\n",
    "from sympy.core.numbers import Zero, One\n",
    "from math import factorial as fac\n",
    "import functools32\n",
    "\n",
    "init_printing()"
   ]
  },
  {
   "cell_type": "markdown",
   "metadata": {},
   "source": [
    "# Manual Munging\n",
    "\n",
    "We'll need this later on...\n",
    "\n",
    "Annoyingly, sympy does not pull free variables outside of integrals unless we call `doit()` to evaulate the integral. Without pulling out the factors of $\\beta$ and $\\lambda$, we won't be able to simplify the expressions. But, the call to `doit()` is extremely slow and the integrals can't be evaluated anyway. So, we'll write our own routine to pull out factors that are constant with respect to the integration."
   ]
  },
  {
   "cell_type": "code",
   "execution_count": 2,
   "metadata": {
    "collapsed": true
   },
   "outputs": [],
   "source": [
    "def crawl(expr, func, *args, **kwargs):\n",
    "    \"\"\"Crawl the expression tree, and apply func to every node.\"\"\"\n",
    "    val = func(expr, *args, **kwargs)\n",
    "    if val is not None:\n",
    "        return val\n",
    "    new_args = (crawl(arg, func, *args, **kwargs) for arg in expr.args)\n",
    "    return expr.func(*new_args)\n"
   ]
  },
  {
   "cell_type": "code",
   "execution_count": 3,
   "metadata": {
    "collapsed": false
   },
   "outputs": [],
   "source": [
    "# Note that we're going to assume that the integral\n",
    "# is expanded, so that inside of the integral is\n",
    "# a product. We're then going to fish out terms that are constant\n",
    "# with respect to the variable of integration. \n",
    "def fix_integral(expr):\n",
    "    if expr.func == Integral:\n",
    "        # if it's just an exponential, then do nothing\n",
    "        if expr.args[0].func == exp:\n",
    "            return None\n",
    "        elif expr.args[0].func == Zero:\n",
    "            return Zero()\n",
    "        \n",
    "        # otherwise, it should be a product\n",
    "        # and we'll pull out anything constant\n",
    "        # wrt the variable of integration\n",
    "        assert expr.args[0].func == Mul\n",
    "        inside = []\n",
    "        outside = [1]\n",
    "        for arg in expr.args[0].args:\n",
    "            if expr.args[1][0] not in arg.free_symbols:\n",
    "                outside.append(arg)\n",
    "            else:\n",
    "                inside.append(arg)\n",
    "        val = Mul(*outside) * Integral(Mul(*inside), expr.args[1])\n",
    "        return val\n",
    "    if not expr.args:\n",
    "        return expr\n",
    "    else:\n",
    "        return None"
   ]
  },
  {
   "cell_type": "code",
   "execution_count": 232,
   "metadata": {
    "collapsed": false
   },
   "outputs": [],
   "source": [
    "# This is the routine to call to simplify the integrals\n",
    "def simplify_integral(expr):\n",
    "    return expand(crawl(expand(expr), fix_integral))"
   ]
  },
  {
   "cell_type": "markdown",
   "metadata": {},
   "source": [
    "We'll also create a simple function to truncate at a particular order. Note that this is a bit of a hack, in that it just sets the specified power of $\\beta^N$ to zero. It doesn't do anything with any higher powers."
   ]
  },
  {
   "cell_type": "code",
   "execution_count": 296,
   "metadata": {
    "collapsed": false
   },
   "outputs": [],
   "source": [
    "def truncate_order(expr, N):\n",
    "    return expr.subs(beta**N, 0) + Function('O')(beta**N)"
   ]
  },
  {
   "cell_type": "markdown",
   "metadata": {},
   "source": [
    "Now we'll define a function to rewrite the integrals as expecations. This function won't work for all general cases, but it's fine for our purposes here."
   ]
  },
  {
   "cell_type": "code",
   "execution_count": 235,
   "metadata": {
    "collapsed": true
   },
   "outputs": [],
   "source": [
    "E = Function('E')\n",
    "\n",
    "# Note that we're going to assume that the integral\n",
    "# is expanded, so that inside of the integral is\n",
    "# a product.\n",
    "def extract_expectation_mv(expr):\n",
    "    if expr.func == Integral:\n",
    "        # it should be a product\n",
    "        # and we'll pull out anything constant\n",
    "        # wrt the variable of integration\n",
    "        assert expr.args[0].func == Mul\n",
    "        exp_terms = []\n",
    "        non_exp_terms = []\n",
    "        for arg in expr.args[0].args:\n",
    "            if arg.func == exp:\n",
    "                exp_terms.append(arg)\n",
    "            else:\n",
    "                non_exp_terms.append(arg)\n",
    "        # we'll assume that the exp terms are always\n",
    "        # the ones we need, so we won't look at them\n",
    "        if not non_exp_terms:\n",
    "            val = One()\n",
    "        elif len(non_exp_terms) == 1:\n",
    "            return E(non_exp_terms[0])\n",
    "        else:\n",
    "            return E(Mul(*non_exp_terms))\n",
    "        return val\n",
    "    if not expr.args:\n",
    "        return expr\n",
    "    else:\n",
    "        return None"
   ]
  },
  {
   "cell_type": "markdown",
   "metadata": {},
   "source": [
    "# Univariate Case"
   ]
  },
  {
   "cell_type": "code",
   "execution_count": 236,
   "metadata": {
    "collapsed": false
   },
   "outputs": [],
   "source": [
    "# these have assumptions about being real / positive that\n",
    "# might help with simplifications\n",
    "x = symbols('x', real=True)\n",
    "beta = symbols('beta', positive=True)\n",
    "l = symbols('lambda', real=True)\n",
    "k = symbols('k', real=True)\n",
    "H = Function('H')"
   ]
  },
  {
   "cell_type": "code",
   "execution_count": 237,
   "metadata": {
    "collapsed": true
   },
   "outputs": [],
   "source": [
    "def gen_moment(n, seperable=False):\n",
    "    'Generate the nth moment'\n",
    "    if n == 0:\n",
    "        return 1.0\n",
    "    else:\n",
    "        if seperable:\n",
    "            return integrate((l * H(x))**n * exp(-beta * l * H(x)), x) / integrate(exp(-beta * l * H(x)), x)\n",
    "        else:\n",
    "            return integrate(H(x, l)**n * exp(-beta * H(x, l)), x) / integrate(exp(-beta * H(x, l)), x)"
   ]
  },
  {
   "cell_type": "code",
   "execution_count": 238,
   "metadata": {
    "collapsed": false
   },
   "outputs": [
    {
     "data": {
      "image/png": "[encoded data removed]",
      "text/latex": [
       "$$\\frac{\\int H^{2}{\\left (x,\\lambda \\right )} e^{- \\beta H{\\left (x,\\lambda \\right )}}\\, dx}{\\int e^{- \\beta H{\\left (x,\\lambda \\right )}}\\, dx}$$"
      ],
      "text/plain": [
       "⌠                        \n",
       "⎮  2        -β⋅H(x, λ)   \n",
       "⎮ H (x, λ)⋅ℯ           dx\n",
       "⌡                        \n",
       "─────────────────────────\n",
       "     ⌠                   \n",
       "     ⎮  -β⋅H(x, λ)       \n",
       "     ⎮ ℯ           dx    \n",
       "     ⌡                   "
      ]
     },
     "execution_count": 238,
     "metadata": {},
     "output_type": "execute_result"
    }
   ],
   "source": [
    "# we can have general lambda dependence\n",
    "gen_moment(2)"
   ]
  },
  {
   "cell_type": "code",
   "execution_count": 239,
   "metadata": {
    "collapsed": false
   },
   "outputs": [
    {
     "data": {
      "image/png": "[encoded data removed]",
      "text/latex": [
       "$$\\frac{\\lambda^{2} \\int H^{2}{\\left (x \\right )} e^{- \\beta \\lambda H{\\left (x \\right )}}\\, dx}{\\int e^{- \\beta \\lambda H{\\left (x \\right )}}\\, dx}$$"
      ],
      "text/plain": [
       "   ⌠                    \n",
       " 2 ⎮  2     -β⋅λ⋅H(x)   \n",
       "λ ⋅⎮ H (x)⋅ℯ          dx\n",
       "   ⌡                    \n",
       "────────────────────────\n",
       "    ⌠                   \n",
       "    ⎮  -β⋅λ⋅H(x)        \n",
       "    ⎮ ℯ          dx     \n",
       "    ⌡                   "
      ]
     },
     "execution_count": 239,
     "metadata": {},
     "output_type": "execute_result"
    }
   ],
   "source": [
    "# or we can have it be seperable\n",
    "gen_moment(2, True)"
   ]
  },
  {
   "cell_type": "code",
   "execution_count": 240,
   "metadata": {
    "collapsed": false
   },
   "outputs": [],
   "source": [
    "def binomial(x, y):\n",
    "    'generate binomial coefficent'\n",
    "    try:\n",
    "        binom = fac(x) // fac(y) // fac(x - y)\n",
    "    except ValueError:\n",
    "        binom = 0\n",
    "    return binom\n",
    "\n",
    "@functools32.lru_cache()\n",
    "def gen_cumulant(n, seperable=False):\n",
    "    'generate the nth cumlant'\n",
    "    k = gen_moment(n)\n",
    "    for m in range(1, n):\n",
    "        k -= binomial(n - 1, m - 1) * gen_cumulant(m, seperable) * gen_moment(n - m, seperable)\n",
    "    return simplify_integral(k)"
   ]
  },
  {
   "cell_type": "code",
   "execution_count": 241,
   "metadata": {
    "collapsed": false
   },
   "outputs": [
    {
     "data": {
      "image/png": "[encoded data removed]",
      "text/latex": [
       "$$- \\frac{\\int H{\\left (x,\\lambda \\right )} e^{- \\beta H{\\left (x,\\lambda \\right )}}\\, dx^{2}}{\\int e^{- \\beta H{\\left (x,\\lambda \\right )}}\\, dx^{2}} + \\frac{\\int H^{2}{\\left (x,\\lambda \\right )} e^{- \\beta H{\\left (x,\\lambda \\right )}}\\, dx}{\\int e^{- \\beta H{\\left (x,\\lambda \\right )}}\\, dx}$$"
      ],
      "text/plain": [
       "                            2                            \n",
       "  ⎛⌠                       ⎞    ⌠                        \n",
       "  ⎜⎮          -β⋅H(x, λ)   ⎟    ⎮  2        -β⋅H(x, λ)   \n",
       "  ⎜⎮ H(x, λ)⋅ℯ           dx⎟    ⎮ H (x, λ)⋅ℯ           dx\n",
       "  ⎝⌡                       ⎠    ⌡                        \n",
       "- ─────────────────────────── + ─────────────────────────\n",
       "                        2            ⌠                   \n",
       "      ⎛⌠               ⎞             ⎮  -β⋅H(x, λ)       \n",
       "      ⎜⎮  -β⋅H(x, λ)   ⎟             ⎮ ℯ           dx    \n",
       "      ⎜⎮ ℯ           dx⎟             ⌡                   \n",
       "      ⎝⌡               ⎠                                 "
      ]
     },
     "execution_count": 241,
     "metadata": {},
     "output_type": "execute_result"
    }
   ],
   "source": [
    "gen_cumulant(2)"
   ]
  },
  {
   "cell_type": "code",
   "execution_count": 242,
   "metadata": {
    "collapsed": true
   },
   "outputs": [],
   "source": [
    "def gen_delta_A(n, seperable=False):\n",
    "    'generate a series expansion for the free energy to nth order'\n",
    "    A = 0\n",
    "    for i in range(1, n+1):\n",
    "        A += beta**(i-1) / fac(i) * gen_cumulant(i, seperable)\n",
    "    return A"
   ]
  },
  {
   "cell_type": "code",
   "execution_count": 343,
   "metadata": {
    "collapsed": false,
    "scrolled": true
   },
   "outputs": [
    {
     "data": {
      "image/png": "[encoded data removed]",
      "text/latex": [
       "$$\\frac{\\beta^{2} \\int H{\\left (x,\\lambda \\right )} e^{- \\beta H{\\left (x,\\lambda \\right )}}\\, dx^{3}}{3 \\int e^{- \\beta H{\\left (x,\\lambda \\right )}}\\, dx^{3}} - \\frac{\\beta^{2}}{2 \\int e^{- \\beta H{\\left (x,\\lambda \\right )}}\\, dx^{2}} \\left(\\int H{\\left (x,\\lambda \\right )} e^{- \\beta H{\\left (x,\\lambda \\right )}}\\, dx\\right) \\int H^{2}{\\left (x,\\lambda \\right )} e^{- \\beta H{\\left (x,\\lambda \\right )}}\\, dx + \\frac{\\beta^{2} \\int H^{3}{\\left (x,\\lambda \\right )} e^{- \\beta H{\\left (x,\\lambda \\right )}}\\, dx}{6 \\int e^{- \\beta H{\\left (x,\\lambda \\right )}}\\, dx} - \\frac{\\beta \\int H{\\left (x,\\lambda \\right )} e^{- \\beta H{\\left (x,\\lambda \\right )}}\\, dx^{2}}{2 \\int e^{- \\beta H{\\left (x,\\lambda \\right )}}\\, dx^{2}} + \\frac{\\beta \\int H^{2}{\\left (x,\\lambda \\right )} e^{- \\beta H{\\left (x,\\lambda \\right )}}\\, dx}{2 \\int e^{- \\beta H{\\left (x,\\lambda \\right )}}\\, dx} + \\frac{\\int H{\\left (x,\\lambda \\right )} e^{- \\beta H{\\left (x,\\lambda \\right )}}\\, dx}{\\int e^{- \\beta H{\\left (x,\\lambda \\right )}}\\, dx}$$"
      ],
      "text/plain": [
       "                             3                                                \n",
       "   ⎛⌠                       ⎞       ⎛⌠                       ⎞ ⌠              \n",
       " 2 ⎜⎮          -β⋅H(x, λ)   ⎟     2 ⎜⎮          -β⋅H(x, λ)   ⎟ ⎮  2        -β⋅\n",
       "β ⋅⎜⎮ H(x, λ)⋅ℯ           dx⎟    β ⋅⎜⎮ H(x, λ)⋅ℯ           dx⎟⋅⎮ H (x, λ)⋅ℯ   \n",
       "   ⎝⌡                       ⎠       ⎝⌡                       ⎠ ⌡              \n",
       "────────────────────────────── - ─────────────────────────────────────────────\n",
       "                        3                                             2       \n",
       "      ⎛⌠               ⎞                            ⎛⌠               ⎞        \n",
       "      ⎜⎮  -β⋅H(x, λ)   ⎟                            ⎜⎮  -β⋅H(x, λ)   ⎟        \n",
       "    3⋅⎜⎮ ℯ           dx⎟                          2⋅⎜⎮ ℯ           dx⎟        \n",
       "      ⎝⌡               ⎠                            ⎝⌡               ⎠        \n",
       "\n",
       "                                                                        2     \n",
       "                ⌠                             ⎛⌠                       ⎞      \n",
       "H(x, λ)       2 ⎮  3        -β⋅H(x, λ)        ⎜⎮          -β⋅H(x, λ)   ⎟      \n",
       "        dx   β ⋅⎮ H (x, λ)⋅ℯ           dx   β⋅⎜⎮ H(x, λ)⋅ℯ           dx⎟    β⋅\n",
       "                ⌡                             ⎝⌡                       ⎠      \n",
       "────────── + ──────────────────────────── - ───────────────────────────── + ──\n",
       "                    ⌠                                               2         \n",
       "                    ⎮  -β⋅H(x, λ)                 ⎛⌠               ⎞          \n",
       "                  6⋅⎮ ℯ           dx              ⎜⎮  -β⋅H(x, λ)   ⎟          \n",
       "                    ⌡                           2⋅⎜⎮ ℯ           dx⎟          \n",
       "                                                  ⎝⌡               ⎠          \n",
       "\n",
       "                                                    \n",
       "⌠                           ⌠                       \n",
       "⎮  2        -β⋅H(x, λ)      ⎮          -β⋅H(x, λ)   \n",
       "⎮ H (x, λ)⋅ℯ           dx   ⎮ H(x, λ)⋅ℯ           dx\n",
       "⌡                           ⌡                       \n",
       "───────────────────────── + ────────────────────────\n",
       "     ⌠                          ⌠                   \n",
       "     ⎮  -β⋅H(x, λ)              ⎮  -β⋅H(x, λ)       \n",
       "   2⋅⎮ ℯ           dx           ⎮ ℯ           dx    \n",
       "     ⌡                          ⌡                   \n",
       "                                                    "
      ]
     },
     "execution_count": 343,
     "metadata": {},
     "output_type": "execute_result"
    }
   ],
   "source": [
    "A_3 = simplify_integral(gen_delta_A(3))\n",
    "A_3"
   ]
  },
  {
   "cell_type": "code",
   "execution_count": 282,
   "metadata": {
    "collapsed": false
   },
   "outputs": [
    {
     "data": {
      "image/png": "[encoded data removed]",
      "text/latex": [
       "$$O{\\left (\\beta^{3} \\right )} + \\frac{\\int e^{- \\beta H{\\left (x,\\lambda \\right )}} \\frac{\\partial}{\\partial \\lambda} H{\\left (x,\\lambda \\right )}\\, dx}{\\int e^{- \\beta H{\\left (x,\\lambda \\right )}}\\, dx}$$"
      ],
      "text/plain": [
       "        ⌠                           \n",
       "        ⎮  -β⋅H(x, λ) ∂             \n",
       "        ⎮ ℯ          ⋅──(H(x, λ)) dx\n",
       "        ⎮             ∂λ            \n",
       " ⎛ 3⎞   ⌡                           \n",
       "O⎝β ⎠ + ────────────────────────────\n",
       "              ⌠                     \n",
       "              ⎮  -β⋅H(x, λ)         \n",
       "              ⎮ ℯ           dx      \n",
       "              ⌡                     "
      ]
     },
     "execution_count": 282,
     "metadata": {},
     "output_type": "execute_result"
    }
   ],
   "source": [
    "# now let's take the derivative\n",
    "truncate_order(expand(simplify_integral(diff(A_3, l))), 3)"
   ]
  },
  {
   "cell_type": "markdown",
   "metadata": {},
   "source": [
    "As you can see above, when we expand to 3rd order and take the derivative, we're left with $\\langle\\frac{\\partial H}{\\partial \\lambda}\\rangle$ and $O(\\beta^3)$. If we expand to order $N$, we get this same term plus $O(\\beta^N)$. This presumably holds to all orders, so $\\frac{dA}{d\\lambda} = \\langle\\frac{\\partial H}{\\partial \\lambda}\\rangle$ as expected."
   ]
  },
  {
   "cell_type": "markdown",
   "metadata": {},
   "source": [
    "We know that:\n",
    "\\begin{equation}\n",
    "\\frac{dA}{d\\lambda} = \\langle\\frac{\\partial H}{\\partial \\lambda}\\rangle = \\frac{\\partial}{\\partial \\lambda}\\langle H \\rangle + \\frac{\\partial}{\\partial \\lambda} O(\\beta).\n",
    "\\end{equation}\n",
    "And we also know that:\n",
    "\\begin{equation}\n",
    "\\frac{\\partial}{\\partial \\lambda} \\langle H \\rangle = \\langle \\frac{\\partial H}{\\partial \\lambda}\\rangle - \\beta Cov\\left(H, \\frac{\\partial H}{\\partial \\lambda}\\right),\n",
    "\\end{equation}\n",
    "which implies that\n",
    "\\begin{equation}\n",
    "\\frac{\\partial}{\\partial \\lambda} O(\\beta) = \\beta Cov\\left(H, \\frac{\\partial H}{\\partial \\lambda}\\right).\n",
    "\\end{equation}\n"
   ]
  },
  {
   "cell_type": "markdown",
   "metadata": {},
   "source": [
    "# Multivariate Case"
   ]
  },
  {
   "cell_type": "code",
   "execution_count": 14,
   "metadata": {
    "collapsed": true
   },
   "outputs": [],
   "source": [
    "# we need some more functions\n",
    "H0 = Function('H0')\n",
    "H1 = Function('H1')\n",
    "H2 = Function('H2')"
   ]
  },
  {
   "cell_type": "code",
   "execution_count": 15,
   "metadata": {
    "collapsed": false
   },
   "outputs": [],
   "source": [
    "Q = symbols('Q')\n",
    "R = symbols('R')\n",
    "# this is the integral for an expactation, we can substitute in\n",
    "# whatever we like for Q\n",
    "expectation = ( integrate(Q(x, l) * exp(R(x,l)), x) /\n",
    "                integrate(exp(R(x, l)), x))\n",
    "\n",
    "@functools32.lru_cache()\n",
    "def gen_moment_mv(n0, n1, n2, seperable=False):\n",
    "    'generate moment of order n0, n1, n2'\n",
    "    if seperable:\n",
    "        expression = H0(x)**n0 * (l * H1(x))**n1 * (l * H2(x))**n2\n",
    "        r = -beta * (H0(x) + l * H1(x) + l * H2(x))\n",
    "    else:\n",
    "        expression = H0(x)**n0 * H1(x, l)**n1 * H2(x, l)**n2\n",
    "        r = -beta * (H0(x) + H1(x, l) + H2(x, l))\n",
    "    subbed = expectation.subs(Q(x, l), expression).subs(R(x, l), r)\n",
    "    return subbed"
   ]
  },
  {
   "cell_type": "code",
   "execution_count": 96,
   "metadata": {
    "collapsed": false
   },
   "outputs": [],
   "source": [
    "def partition(collection):\n",
    "    'generate all partitions of a set'\n",
    "    if len(collection) == 1:\n",
    "        yield [ collection ]\n",
    "        return\n",
    "\n",
    "    first = collection[0]\n",
    "    for smaller in partition(collection[1:]):\n",
    "        # insert `first` in each of the subpartition's subsets\n",
    "        for n, subset in enumerate(smaller):\n",
    "            yield smaller[:n] + [[ first ] + subset]  + smaller[n+1:]\n",
    "        # put `first` in its own subset \n",
    "        yield [ [ first ] ] + smaller\n",
    "\n",
    "\n",
    "@functools32.lru_cache()        \n",
    "def gen_cumulant_mv(n0, n1, n2, seperable=False):\n",
    "    'generate multivariate cumulant of order n0, n1, n2 in H0, H1, H2'\n",
    "    powers = [0] * n0 + [1] * n1 + [2] * n2\n",
    "    part = partition(powers)\n",
    "    summation = 0\n",
    "    for grouping in part:\n",
    "        prod = 1\n",
    "        q = len(grouping)\n",
    "        for term in grouping:\n",
    "            pow0 = sum(1 for x in term if x == 0)\n",
    "            pow1 = sum(1 for x in term if x == 1)\n",
    "            pow2 = sum(1 for x in term if x == 2)\n",
    "            moment = gen_moment_mv(pow0, pow1, pow2, seperable)\n",
    "            prod = prod * moment\n",
    "        summation += (-1)**(q-1) * fac(q-1) * prod\n",
    "    return summation"
   ]
  },
  {
   "cell_type": "code",
   "execution_count": 97,
   "metadata": {
    "collapsed": false
   },
   "outputs": [
    {
     "data": {
      "image/png": "[encoded data removed]",
      "text/latex": [
       "$$\\frac{2 \\int H{\\left (x,\\lambda \\right )} e^{- \\beta H{\\left (x,\\lambda \\right )}}\\, dx^{3}}{\\int e^{- \\beta H{\\left (x,\\lambda \\right )}}\\, dx^{3}} - \\frac{3}{\\int e^{- \\beta H{\\left (x,\\lambda \\right )}}\\, dx^{2}} \\left(\\int H{\\left (x,\\lambda \\right )} e^{- \\beta H{\\left (x,\\lambda \\right )}}\\, dx\\right) \\int H^{2}{\\left (x,\\lambda \\right )} e^{- \\beta H{\\left (x,\\lambda \\right )}}\\, dx + \\frac{\\int H^{3}{\\left (x,\\lambda \\right )} e^{- \\beta H{\\left (x,\\lambda \\right )}}\\, dx}{\\int e^{- \\beta H{\\left (x,\\lambda \\right )}}\\, dx}$$"
      ],
      "text/plain": [
       "                            3                                                 \n",
       "  ⎛⌠                       ⎞      ⎛⌠                       ⎞ ⌠                \n",
       "  ⎜⎮          -β⋅H(x, λ)   ⎟      ⎜⎮          -β⋅H(x, λ)   ⎟ ⎮  2        -β⋅H(\n",
       "2⋅⎜⎮ H(x, λ)⋅ℯ           dx⎟    3⋅⎜⎮ H(x, λ)⋅ℯ           dx⎟⋅⎮ H (x, λ)⋅ℯ     \n",
       "  ⎝⌡                       ⎠      ⎝⌡                       ⎠ ⌡                \n",
       "───────────────────────────── - ──────────────────────────────────────────────\n",
       "                       3                                           2          \n",
       "     ⎛⌠               ⎞                          ⎛⌠               ⎞           \n",
       "     ⎜⎮  -β⋅H(x, λ)   ⎟                          ⎜⎮  -β⋅H(x, λ)   ⎟           \n",
       "     ⎜⎮ ℯ           dx⎟                          ⎜⎮ ℯ           dx⎟           \n",
       "     ⎝⌡               ⎠                          ⎝⌡               ⎠           \n",
       "\n",
       "                                    \n",
       "           ⌠                        \n",
       "x, λ)      ⎮  3        -β⋅H(x, λ)   \n",
       "      dx   ⎮ H (x, λ)⋅ℯ           dx\n",
       "           ⌡                        \n",
       "──────── + ─────────────────────────\n",
       "                ⌠                   \n",
       "                ⎮  -β⋅H(x, λ)       \n",
       "                ⎮ ℯ           dx    \n",
       "                ⌡                   \n",
       "                                    "
      ]
     },
     "execution_count": 97,
     "metadata": {},
     "output_type": "execute_result"
    }
   ],
   "source": [
    "# let's test it out\n",
    "gen_cumulant(3)"
   ]
  },
  {
   "cell_type": "code",
   "execution_count": 99,
   "metadata": {
    "collapsed": false
   },
   "outputs": [
    {
     "data": {
      "image/png": "[encoded data removed]",
      "text/latex": [
       "$$\\frac{2 \\int \\operatorname{H_{0}}{\\left (x \\right )} e^{- \\beta \\left(\\operatorname{H_{0}}{\\left (x \\right )} + \\operatorname{H_{1}}{\\left (x,\\lambda \\right )} + \\operatorname{H_{2}}{\\left (x,\\lambda \\right )}\\right)}\\, dx^{3}}{\\int e^{- \\beta \\left(\\operatorname{H_{0}}{\\left (x \\right )} + \\operatorname{H_{1}}{\\left (x,\\lambda \\right )} + \\operatorname{H_{2}}{\\left (x,\\lambda \\right )}\\right)}\\, dx^{3}} - \\frac{3}{\\int e^{- \\beta \\left(\\operatorname{H_{0}}{\\left (x \\right )} + \\operatorname{H_{1}}{\\left (x,\\lambda \\right )} + \\operatorname{H_{2}}{\\left (x,\\lambda \\right )}\\right)}\\, dx^{2}} \\left(\\int \\operatorname{H_{0}}{\\left (x \\right )} e^{- \\beta \\left(\\operatorname{H_{0}}{\\left (x \\right )} + \\operatorname{H_{1}}{\\left (x,\\lambda \\right )} + \\operatorname{H_{2}}{\\left (x,\\lambda \\right )}\\right)}\\, dx\\right) \\int \\operatorname{H_{0}}^{2}{\\left (x \\right )} e^{- \\beta \\left(\\operatorname{H_{0}}{\\left (x \\right )} + \\operatorname{H_{1}}{\\left (x,\\lambda \\right )} + \\operatorname{H_{2}}{\\left (x,\\lambda \\right )}\\right)}\\, dx + \\frac{\\int \\operatorname{H_{0}}^{3}{\\left (x \\right )} e^{- \\beta \\left(\\operatorname{H_{0}}{\\left (x \\right )} + \\operatorname{H_{1}}{\\left (x,\\lambda \\right )} + \\operatorname{H_{2}}{\\left (x,\\lambda \\right )}\\right)}\\, dx}{\\int e^{- \\beta \\left(\\operatorname{H_{0}}{\\left (x \\right )} + \\operatorname{H_{1}}{\\left (x,\\lambda \\right )} + \\operatorname{H_{2}}{\\left (x,\\lambda \\right )}\\right)}\\, dx}$$"
      ],
      "text/plain": [
       "                                                3                             \n",
       "  ⎛⌠                                           ⎞      ⎛⌠                      \n",
       "  ⎜⎮        -β⋅(H₀(x) + H₁(x, λ) + H₂(x, λ))   ⎟      ⎜⎮        -β⋅(H₀(x) + H₁\n",
       "2⋅⎜⎮ H₀(x)⋅ℯ                                 dx⎟    3⋅⎜⎮ H₀(x)⋅ℯ              \n",
       "  ⎝⌡                                           ⎠      ⎝⌡                      \n",
       "───────────────────────────────────────────────── - ──────────────────────────\n",
       "                                            3                                 \n",
       "    ⎛⌠                                     ⎞                                  \n",
       "    ⎜⎮  -β⋅(H₀(x) + H₁(x, λ) + H₂(x, λ))   ⎟                                  \n",
       "    ⎜⎮ ℯ                                 dx⎟                                  \n",
       "    ⎝⌡                                     ⎠                                  \n",
       "\n",
       "                                                                              \n",
       "                     ⎞ ⌠                                               ⌠      \n",
       "(x, λ) + H₂(x, λ))   ⎟ ⎮   2     -β⋅(H₀(x) + H₁(x, λ) + H₂(x, λ))      ⎮   3  \n",
       "                   dx⎟⋅⎮ H₀ (x)⋅ℯ                                 dx   ⎮ H₀ (x\n",
       "                     ⎠ ⌡                                               ⌡      \n",
       "──────────────────────────────────────────────────────────────────── + ───────\n",
       "                                        2                                  ⌠  \n",
       "⎛⌠                                     ⎞                                   ⎮  \n",
       "⎜⎮  -β⋅(H₀(x) + H₁(x, λ) + H₂(x, λ))   ⎟                                   ⎮ ℯ\n",
       "⎜⎮ ℯ                                 dx⎟                                   ⌡  \n",
       "⎝⌡                                     ⎠                                      \n",
       "\n",
       "                                      \n",
       "                                      \n",
       "   -β⋅(H₀(x) + H₁(x, λ) + H₂(x, λ))   \n",
       ")⋅ℯ                                 dx\n",
       "                                      \n",
       "──────────────────────────────────────\n",
       "                                      \n",
       "-β⋅(H₀(x) + H₁(x, λ) + H₂(x, λ))      \n",
       "                                 dx   \n",
       "                                      \n",
       "                                      "
      ]
     },
     "execution_count": 99,
     "metadata": {},
     "output_type": "execute_result"
    }
   ],
   "source": [
    "# this looks right\n",
    "gen_cumulant_mv(3, 0, 0)"
   ]
  },
  {
   "cell_type": "code",
   "execution_count": 318,
   "metadata": {
    "collapsed": true
   },
   "outputs": [],
   "source": [
    "def partition_n(n):\n",
    "    for i in range(n + 1):\n",
    "        for j in range(n + 1):\n",
    "            for k in range(n + 1):\n",
    "                if i + j + k == n:\n",
    "                    yield i, j, k\n",
    "\n",
    "\n",
    "def coeff_ATotal(i, j, k, n):\n",
    "    return 1\n",
    "\n",
    "\n",
    "def coeff_A0(i, j, k, n):\n",
    "    if i > 0:\n",
    "        return 1\n",
    "    else:\n",
    "        return 0\n",
    "\n",
    "\n",
    "def coeff_A1(i, j, k, n):\n",
    "    if i > 0:\n",
    "        return 0\n",
    "    else:\n",
    "        return Rational(j, j+k)\n",
    "\n",
    "\n",
    "def coeff_A1_pred(i, j, k, n):\n",
    "    if j > 0:\n",
    "        return 1\n",
    "    else:\n",
    "        return 0\n",
    "\n",
    "    \n",
    "def coeff_A2(i, j, k, n):\n",
    "    if i > 0:\n",
    "        return 0\n",
    "    else:\n",
    "        return Rational(k, j+k)\n",
    "\n",
    "\n",
    "coeff_dict = {\n",
    "    'ATotal': coeff_ATotal,\n",
    "    'A0': coeff_A0,\n",
    "    'A1': coeff_A1,\n",
    "    'A1pred': coeff_A1_pred,\n",
    "    'A2': coeff_A2\n",
    "}\n",
    "\n",
    "\n",
    "@functools32.lru_cache()\n",
    "def gen_delta_A_mv(N, seperable=False, component='ATotal'):\n",
    "    total = 0\n",
    "    for n in range(1, N+1):\n",
    "        for i, j, k in partition_n(n):\n",
    "            total += (beta**(n-1) / \n",
    "                      fac(n) * \n",
    "                      coeff_dict[component](i, j, k, n) *\n",
    "                      fac(n) / (fac(i) * fac(j) * fac(k)) *\n",
    "                      gen_cumulant_mv(i, j, k, seperable))\n",
    "    return total\n",
    "            "
   ]
  },
  {
   "cell_type": "code",
   "execution_count": 156,
   "metadata": {
    "collapsed": false
   },
   "outputs": [
    {
     "data": {
      "image/png": "[encoded data removed]",
      "text/latex": [
       "$$\\frac{\\beta^{2} \\int H{\\left (x,\\lambda \\right )} e^{- \\beta H{\\left (x,\\lambda \\right )}}\\, dx^{3}}{3 \\int e^{- \\beta H{\\left (x,\\lambda \\right )}}\\, dx^{3}} - \\frac{\\beta^{2}}{2 \\int e^{- \\beta H{\\left (x,\\lambda \\right )}}\\, dx^{2}} \\left(\\int H{\\left (x,\\lambda \\right )} e^{- \\beta H{\\left (x,\\lambda \\right )}}\\, dx\\right) \\int H^{2}{\\left (x,\\lambda \\right )} e^{- \\beta H{\\left (x,\\lambda \\right )}}\\, dx + \\frac{\\beta^{2} \\int H^{3}{\\left (x,\\lambda \\right )} e^{- \\beta H{\\left (x,\\lambda \\right )}}\\, dx}{6 \\int e^{- \\beta H{\\left (x,\\lambda \\right )}}\\, dx} - \\frac{\\beta \\int H{\\left (x,\\lambda \\right )} e^{- \\beta H{\\left (x,\\lambda \\right )}}\\, dx^{2}}{2 \\int e^{- \\beta H{\\left (x,\\lambda \\right )}}\\, dx^{2}} + \\frac{\\beta \\int H^{2}{\\left (x,\\lambda \\right )} e^{- \\beta H{\\left (x,\\lambda \\right )}}\\, dx}{2 \\int e^{- \\beta H{\\left (x,\\lambda \\right )}}\\, dx} + \\frac{\\int H{\\left (x,\\lambda \\right )} e^{- \\beta H{\\left (x,\\lambda \\right )}}\\, dx}{\\int e^{- \\beta H{\\left (x,\\lambda \\right )}}\\, dx}$$"
      ],
      "text/plain": [
       "                             3                                                \n",
       "   ⎛⌠                       ⎞       ⎛⌠                       ⎞ ⌠              \n",
       " 2 ⎜⎮          -β⋅H(x, λ)   ⎟     2 ⎜⎮          -β⋅H(x, λ)   ⎟ ⎮  2        -β⋅\n",
       "β ⋅⎜⎮ H(x, λ)⋅ℯ           dx⎟    β ⋅⎜⎮ H(x, λ)⋅ℯ           dx⎟⋅⎮ H (x, λ)⋅ℯ   \n",
       "   ⎝⌡                       ⎠       ⎝⌡                       ⎠ ⌡              \n",
       "────────────────────────────── - ─────────────────────────────────────────────\n",
       "                        3                                             2       \n",
       "      ⎛⌠               ⎞                            ⎛⌠               ⎞        \n",
       "      ⎜⎮  -β⋅H(x, λ)   ⎟                            ⎜⎮  -β⋅H(x, λ)   ⎟        \n",
       "    3⋅⎜⎮ ℯ           dx⎟                          2⋅⎜⎮ ℯ           dx⎟        \n",
       "      ⎝⌡               ⎠                            ⎝⌡               ⎠        \n",
       "\n",
       "                                                                        2     \n",
       "                ⌠                             ⎛⌠                       ⎞      \n",
       "H(x, λ)       2 ⎮  3        -β⋅H(x, λ)        ⎜⎮          -β⋅H(x, λ)   ⎟      \n",
       "        dx   β ⋅⎮ H (x, λ)⋅ℯ           dx   β⋅⎜⎮ H(x, λ)⋅ℯ           dx⎟    β⋅\n",
       "                ⌡                             ⎝⌡                       ⎠      \n",
       "────────── + ──────────────────────────── - ───────────────────────────── + ──\n",
       "                    ⌠                                               2         \n",
       "                    ⎮  -β⋅H(x, λ)                 ⎛⌠               ⎞          \n",
       "                  6⋅⎮ ℯ           dx              ⎜⎮  -β⋅H(x, λ)   ⎟          \n",
       "                    ⌡                           2⋅⎜⎮ ℯ           dx⎟          \n",
       "                                                  ⎝⌡               ⎠          \n",
       "\n",
       "                                                    \n",
       "⌠                           ⌠                       \n",
       "⎮  2        -β⋅H(x, λ)      ⎮          -β⋅H(x, λ)   \n",
       "⎮ H (x, λ)⋅ℯ           dx   ⎮ H(x, λ)⋅ℯ           dx\n",
       "⌡                           ⌡                       \n",
       "───────────────────────── + ────────────────────────\n",
       "     ⌠                          ⌠                   \n",
       "     ⎮  -β⋅H(x, λ)              ⎮  -β⋅H(x, λ)       \n",
       "   2⋅⎮ ℯ           dx           ⎮ ℯ           dx    \n",
       "     ⌡                          ⌡                   \n",
       "                                                    "
      ]
     },
     "execution_count": 156,
     "metadata": {},
     "output_type": "execute_result"
    }
   ],
   "source": [
    "# now let's check to see that if we set H! and H@ to zero,\n",
    "# we get the same result as the univariate case\n",
    "x1 = simplify_integral(gen_delta_A_mv(3))\n",
    "x1 = x1.subs(H1(x,l), 0).subs(H2(x,l), 0).subs(H0(x), H(x,l))\n",
    "x1 = simplify_integral(x1)\n",
    "x1"
   ]
  },
  {
   "cell_type": "code",
   "execution_count": 157,
   "metadata": {
    "collapsed": false
   },
   "outputs": [
    {
     "data": {
      "image/png": "[encoded data removed]",
      "text/latex": [
       "$$\\frac{\\beta^{2}}{6} \\left(\\frac{2 \\int H{\\left (x,\\lambda \\right )} e^{- \\beta H{\\left (x,\\lambda \\right )}}\\, dx^{3}}{\\int e^{- \\beta H{\\left (x,\\lambda \\right )}}\\, dx^{3}} - \\frac{3}{\\int e^{- \\beta H{\\left (x,\\lambda \\right )}}\\, dx^{2}} \\left(\\int H{\\left (x,\\lambda \\right )} e^{- \\beta H{\\left (x,\\lambda \\right )}}\\, dx\\right) \\int H^{2}{\\left (x,\\lambda \\right )} e^{- \\beta H{\\left (x,\\lambda \\right )}}\\, dx + \\frac{\\int H^{3}{\\left (x,\\lambda \\right )} e^{- \\beta H{\\left (x,\\lambda \\right )}}\\, dx}{\\int e^{- \\beta H{\\left (x,\\lambda \\right )}}\\, dx}\\right) + \\frac{\\beta}{2} \\left(- \\frac{\\int H{\\left (x,\\lambda \\right )} e^{- \\beta H{\\left (x,\\lambda \\right )}}\\, dx^{2}}{\\int e^{- \\beta H{\\left (x,\\lambda \\right )}}\\, dx^{2}} + \\frac{\\int H^{2}{\\left (x,\\lambda \\right )} e^{- \\beta H{\\left (x,\\lambda \\right )}}\\, dx}{\\int e^{- \\beta H{\\left (x,\\lambda \\right )}}\\, dx}\\right) + \\frac{\\int H{\\left (x,\\lambda \\right )} e^{- \\beta H{\\left (x,\\lambda \\right )}}\\, dx}{\\int e^{- \\beta H{\\left (x,\\lambda \\right )}}\\, dx}$$"
      ],
      "text/plain": [
       "   ⎛                            3                                             \n",
       "   ⎜  ⎛⌠                       ⎞      ⎛⌠                       ⎞ ⌠            \n",
       "   ⎜  ⎜⎮          -β⋅H(x, λ)   ⎟      ⎜⎮          -β⋅H(x, λ)   ⎟ ⎮  2        -\n",
       "   ⎜2⋅⎜⎮ H(x, λ)⋅ℯ           dx⎟    3⋅⎜⎮ H(x, λ)⋅ℯ           dx⎟⋅⎮ H (x, λ)⋅ℯ \n",
       " 2 ⎜  ⎝⌡                       ⎠      ⎝⌡                       ⎠ ⌡            \n",
       "β ⋅⎜───────────────────────────── - ──────────────────────────────────────────\n",
       "   ⎜                       3                                           2      \n",
       "   ⎜     ⎛⌠               ⎞                          ⎛⌠               ⎞       \n",
       "   ⎜     ⎜⎮  -β⋅H(x, λ)   ⎟                          ⎜⎮  -β⋅H(x, λ)   ⎟       \n",
       "   ⎜     ⎜⎮ ℯ           dx⎟                          ⎜⎮ ℯ           dx⎟       \n",
       "   ⎝     ⎝⌡               ⎠                          ⎝⌡               ⎠       \n",
       "──────────────────────────────────────────────────────────────────────────────\n",
       "                                                           6                  \n",
       "                                                                              \n",
       "                                                                              \n",
       "                                                                              \n",
       "\n",
       "                                        ⎞     ⎛                            2  \n",
       "               ⌠                        ⎟     ⎜  ⎛⌠                       ⎞   \n",
       "β⋅H(x, λ)      ⎮  3        -β⋅H(x, λ)   ⎟     ⎜  ⎜⎮          -β⋅H(x, λ)   ⎟   \n",
       "          dx   ⎮ H (x, λ)⋅ℯ           dx⎟     ⎜  ⎜⎮ H(x, λ)⋅ℯ           dx⎟   \n",
       "               ⌡                        ⎟     ⎜  ⎝⌡                       ⎠   \n",
       "──────────── + ─────────────────────────⎟   β⋅⎜- ─────────────────────────── +\n",
       "                    ⌠                   ⎟     ⎜                        2      \n",
       "                    ⎮  -β⋅H(x, λ)       ⎟     ⎜      ⎛⌠               ⎞       \n",
       "                    ⎮ ℯ           dx    ⎟     ⎜      ⎜⎮  -β⋅H(x, λ)   ⎟       \n",
       "                    ⌡                   ⎟     ⎜      ⎜⎮ ℯ           dx⎟       \n",
       "                                        ⎠     ⎝      ⎝⌡               ⎠       \n",
       "───────────────────────────────────────── + ──────────────────────────────────\n",
       "                                                                          2   \n",
       "                                                                              \n",
       "                                                                              \n",
       "                                                                              \n",
       "\n",
       "                          ⎞                           \n",
       " ⌠                        ⎟                           \n",
       " ⎮  2        -β⋅H(x, λ)   ⎟                           \n",
       " ⎮ H (x, λ)⋅ℯ           dx⎟                           \n",
       " ⌡                        ⎟                           \n",
       " ─────────────────────────⎟                           \n",
       "      ⌠                   ⎟                           \n",
       "      ⎮  -β⋅H(x, λ)       ⎟   ⌠                       \n",
       "      ⎮ ℯ           dx    ⎟   ⎮          -β⋅H(x, λ)   \n",
       "      ⌡                   ⎟   ⎮ H(x, λ)⋅ℯ           dx\n",
       "                          ⎠   ⌡                       \n",
       "─────────────────────────── + ────────────────────────\n",
       "                                  ⌠                   \n",
       "                                  ⎮  -β⋅H(x, λ)       \n",
       "                                  ⎮ ℯ           dx    \n",
       "                                  ⌡                   "
      ]
     },
     "execution_count": 157,
     "metadata": {},
     "output_type": "execute_result"
    }
   ],
   "source": [
    "x2 = gen_delta_A(3)\n",
    "x2"
   ]
  },
  {
   "cell_type": "code",
   "execution_count": 158,
   "metadata": {
    "collapsed": false
   },
   "outputs": [
    {
     "data": {
      "image/png": "[encoded data removed]",
      "text/latex": [
       "$$0$$"
      ],
      "text/plain": [
       "0"
      ]
     },
     "execution_count": 158,
     "metadata": {},
     "output_type": "execute_result"
    }
   ],
   "source": [
    "# it looks like these match\n",
    "simplify(x1 - x2)"
   ]
  },
  {
   "cell_type": "markdown",
   "metadata": {},
   "source": [
    "# Seperable Case\n",
    "\n",
    "First, we'll look at the seperable case. For each component of the free energy, we will perform expansions up to the 4th order.\n",
    "\n",
    "We'll start with expansions of $A_{Total}$."
   ]
  },
  {
   "cell_type": "code",
   "execution_count": 283,
   "metadata": {
    "collapsed": false
   },
   "outputs": [],
   "source": [
    "dAT_1 = expand(simplify(simplify_integral(diff(gen_delta_A_mv(1, seperable=True, component='ATotal'), l))))\n",
    "dAT_2 = expand(simplify(simplify_integral(diff(gen_delta_A_mv(2, seperable=True, component='ATotal'), l))))\n",
    "dAT_3 = expand(simplify(simplify_integral(diff(gen_delta_A_mv(3, seperable=True, component='ATotal'), l))))\n",
    "dAT_4 = expand(simplify(simplify_integral(diff(gen_delta_A_mv(4, seperable=True, component='ATotal'), l))))"
   ]
  },
  {
   "cell_type": "code",
   "execution_count": 284,
   "metadata": {
    "collapsed": false
   },
   "outputs": [
    {
     "data": {
      "image/png": "[encoded data removed]",
      "text/latex": [
       "$$E{\\left (\\operatorname{H_{1}}{\\left (x \\right )} \\right )} + E{\\left (\\operatorname{H_{2}}{\\left (x \\right )} \\right )} + O{\\left (\\beta \\right )}$$"
      ],
      "text/plain": [
       "E(H₁(x)) + E(H₂(x)) + O(β)"
      ]
     },
     "execution_count": 284,
     "metadata": {},
     "output_type": "execute_result"
    }
   ],
   "source": [
    "truncate_order(expand(simplify(crawl(dAT_1, extract_expectation_mv))), 1)"
   ]
  },
  {
   "cell_type": "code",
   "execution_count": 285,
   "metadata": {
    "collapsed": false,
    "scrolled": true
   },
   "outputs": [
    {
     "data": {
      "image/png": "[encoded data removed]",
      "text/latex": [
       "$$E{\\left (\\operatorname{H_{1}}{\\left (x \\right )} \\right )} + E{\\left (\\operatorname{H_{2}}{\\left (x \\right )} \\right )} + O{\\left (\\beta^{2} \\right )}$$"
      ],
      "text/plain": [
       "                       ⎛ 2⎞\n",
       "E(H₁(x)) + E(H₂(x)) + O⎝β ⎠"
      ]
     },
     "execution_count": 285,
     "metadata": {},
     "output_type": "execute_result"
    }
   ],
   "source": [
    "truncate_order(expand(simplify(crawl(dAT_2, extract_expectation_mv))), 2)"
   ]
  },
  {
   "cell_type": "code",
   "execution_count": 286,
   "metadata": {
    "collapsed": false,
    "scrolled": true
   },
   "outputs": [
    {
     "data": {
      "image/png": "[encoded data removed]",
      "text/latex": [
       "$$E{\\left (\\operatorname{H_{1}}{\\left (x \\right )} \\right )} + E{\\left (\\operatorname{H_{2}}{\\left (x \\right )} \\right )} + O{\\left (\\beta^{3} \\right )}$$"
      ],
      "text/plain": [
       "                       ⎛ 3⎞\n",
       "E(H₁(x)) + E(H₂(x)) + O⎝β ⎠"
      ]
     },
     "execution_count": 286,
     "metadata": {},
     "output_type": "execute_result"
    }
   ],
   "source": [
    "truncate_order(expand(simplify(crawl(dAT_3, extract_expectation_mv))), 3)"
   ]
  },
  {
   "cell_type": "code",
   "execution_count": 287,
   "metadata": {
    "collapsed": false,
    "scrolled": true
   },
   "outputs": [
    {
     "data": {
      "image/png": "[encoded data removed]",
      "text/latex": [
       "$$E{\\left (\\operatorname{H_{1}}{\\left (x \\right )} \\right )} + E{\\left (\\operatorname{H_{2}}{\\left (x \\right )} \\right )} + O{\\left (\\beta^{4} \\right )}$$"
      ],
      "text/plain": [
       "                       ⎛ 4⎞\n",
       "E(H₁(x)) + E(H₂(x)) + O⎝β ⎠"
      ]
     },
     "execution_count": 287,
     "metadata": {},
     "output_type": "execute_result"
    }
   ],
   "source": [
    "truncate_order(expand(simplify(crawl(dAT_4, extract_expectation_mv))), 4)"
   ]
  },
  {
   "cell_type": "markdown",
   "metadata": {},
   "source": [
    "We can see that we end up with $\\frac{\\partial}{\\partial\\lambda}A_{Total} = \\langle \\frac{\\partial H_1}{\\partial\\lambda} \\rangle + \\langle \\frac{\\partial H_2}{\\partial\\lambda} \\rangle + O(\\beta^N)$ as we expect."
   ]
  },
  {
   "cell_type": "markdown",
   "metadata": {},
   "source": [
    "Next, well try this for $A_1$. In order for all of the other terms to cancel, we must get the splitting factors correct."
   ]
  },
  {
   "cell_type": "code",
   "execution_count": 209,
   "metadata": {
    "collapsed": false
   },
   "outputs": [],
   "source": [
    "dA1_1 = expand(simplify(simplify_integral(diff(gen_delta_A_mv(1, seperable=True, component='A1'), l))))\n",
    "dA1_2 = expand(simplify(simplify_integral(diff(gen_delta_A_mv(2, seperable=True, component='A1'), l))))\n",
    "dA1_3 = expand(simplify(simplify_integral(diff(gen_delta_A_mv(3, seperable=True, component='A1'), l))))\n",
    "dA1_4 = expand(simplify(simplify_integral(diff(gen_delta_A_mv(4, seperable=True, component='A1'), l))))"
   ]
  },
  {
   "cell_type": "code",
   "execution_count": 288,
   "metadata": {
    "collapsed": false
   },
   "outputs": [
    {
     "data": {
      "image/png": "[encoded data removed]",
      "text/latex": [
       "$$E{\\left (\\operatorname{H_{1}}{\\left (x \\right )} \\right )} + O{\\left (\\beta \\right )}$$"
      ],
      "text/plain": [
       "E(H₁(x)) + O(β)"
      ]
     },
     "execution_count": 288,
     "metadata": {},
     "output_type": "execute_result"
    }
   ],
   "source": [
    "truncate_order(expand(simplify(crawl(dA1_1, extract_expectation_mv))), 1)"
   ]
  },
  {
   "cell_type": "code",
   "execution_count": 289,
   "metadata": {
    "collapsed": false
   },
   "outputs": [
    {
     "data": {
      "image/png": "[encoded data removed]",
      "text/latex": [
       "$$E{\\left (\\operatorname{H_{1}}{\\left (x \\right )} \\right )} + O{\\left (\\beta^{2} \\right )}$$"
      ],
      "text/plain": [
       "            ⎛ 2⎞\n",
       "E(H₁(x)) + O⎝β ⎠"
      ]
     },
     "execution_count": 289,
     "metadata": {},
     "output_type": "execute_result"
    }
   ],
   "source": [
    "truncate_order(expand(simplify(crawl(dA1_2, extract_expectation_mv))), 2)"
   ]
  },
  {
   "cell_type": "code",
   "execution_count": 290,
   "metadata": {
    "collapsed": false
   },
   "outputs": [
    {
     "data": {
      "image/png": "[encoded data removed]",
      "text/latex": [
       "$$E{\\left (\\operatorname{H_{1}}{\\left (x \\right )} \\right )} + O{\\left (\\beta^{3} \\right )}$$"
      ],
      "text/plain": [
       "            ⎛ 3⎞\n",
       "E(H₁(x)) + O⎝β ⎠"
      ]
     },
     "execution_count": 290,
     "metadata": {},
     "output_type": "execute_result"
    }
   ],
   "source": [
    "truncate_order(expand(simplify(crawl(dA1_3, extract_expectation_mv))), 3)"
   ]
  },
  {
   "cell_type": "code",
   "execution_count": 291,
   "metadata": {
    "collapsed": false
   },
   "outputs": [
    {
     "data": {
      "image/png": "[encoded data removed]",
      "text/latex": [
       "$$E{\\left (\\operatorname{H_{1}}{\\left (x \\right )} \\right )} + O{\\left (\\beta^{4} \\right )}$$"
      ],
      "text/plain": [
       "            ⎛ 4⎞\n",
       "E(H₁(x)) + O⎝β ⎠"
      ]
     },
     "execution_count": 291,
     "metadata": {},
     "output_type": "execute_result"
    }
   ],
   "source": [
    "truncate_order(expand(simplify(crawl(dA1_4, extract_expectation_mv))), 4)"
   ]
  },
  {
   "cell_type": "markdown",
   "metadata": {},
   "source": [
    "With the correct splitting, we obtain the expected $\\frac{\\partial}{\\partial\\lambda}A_{1} = \\langle \\frac{\\partial H_1}{\\partial\\lambda} \\rangle + O(\\beta^N)$. The results for $A_2$ have a change of variable, but are otherwise identical (not shown).\n",
    "\n",
    "Next, we examine the results for the spectator component $H_0$."
   ]
  },
  {
   "cell_type": "code",
   "execution_count": 224,
   "metadata": {
    "collapsed": true
   },
   "outputs": [],
   "source": [
    "dA0_1 = expand(simplify(simplify_integral(diff(gen_delta_A_mv(1, seperable=True, component='A0'), l))))\n",
    "dA0_2 = expand(simplify(simplify_integral(diff(gen_delta_A_mv(2, seperable=True, component='A0'), l))))\n",
    "dA0_3 = expand(simplify(simplify_integral(diff(gen_delta_A_mv(3, seperable=True, component='A0'), l))))\n",
    "dA0_4 = expand(simplify(simplify_integral(diff(gen_delta_A_mv(4, seperable=True, component='A0'), l))))"
   ]
  },
  {
   "cell_type": "code",
   "execution_count": 292,
   "metadata": {
    "collapsed": false
   },
   "outputs": [
    {
     "data": {
      "image/png": "[encoded data removed]",
      "text/latex": [
       "$$O{\\left (\\beta \\right )}$$"
      ],
      "text/plain": [
       "O(β)"
      ]
     },
     "execution_count": 292,
     "metadata": {},
     "output_type": "execute_result"
    }
   ],
   "source": [
    "truncate_order(expand(simplify(crawl(dA0_1, extract_expectation_mv))), 1)"
   ]
  },
  {
   "cell_type": "code",
   "execution_count": 293,
   "metadata": {
    "collapsed": false
   },
   "outputs": [
    {
     "data": {
      "image/png": "[encoded data removed]",
      "text/latex": [
       "$$O{\\left (\\beta^{2} \\right )}$$"
      ],
      "text/plain": [
       " ⎛ 2⎞\n",
       "O⎝β ⎠"
      ]
     },
     "execution_count": 293,
     "metadata": {},
     "output_type": "execute_result"
    }
   ],
   "source": [
    "truncate_order(expand(simplify(crawl(dA0_2, extract_expectation_mv))), 2)"
   ]
  },
  {
   "cell_type": "code",
   "execution_count": 294,
   "metadata": {
    "collapsed": false
   },
   "outputs": [
    {
     "data": {
      "image/png": "[encoded data removed]",
      "text/latex": [
       "$$O{\\left (\\beta^{3} \\right )}$$"
      ],
      "text/plain": [
       " ⎛ 3⎞\n",
       "O⎝β ⎠"
      ]
     },
     "execution_count": 294,
     "metadata": {},
     "output_type": "execute_result"
    }
   ],
   "source": [
    "truncate_order(expand(simplify(crawl(dA0_3, extract_expectation_mv))), 3)"
   ]
  },
  {
   "cell_type": "code",
   "execution_count": 295,
   "metadata": {
    "collapsed": false
   },
   "outputs": [
    {
     "data": {
      "image/png": "[encoded data removed]",
      "text/latex": [
       "$$O{\\left (\\beta^{4} \\right )}$$"
      ],
      "text/plain": [
       " ⎛ 4⎞\n",
       "O⎝β ⎠"
      ]
     },
     "execution_count": 295,
     "metadata": {},
     "output_type": "execute_result"
    }
   ],
   "source": [
    "truncate_order(expand(simplify(crawl(dA0_4, extract_expectation_mv))), 4)"
   ]
  },
  {
   "cell_type": "markdown",
   "metadata": {},
   "source": [
    "As expected, with the correct splitting, these terms are zero."
   ]
  },
  {
   "cell_type": "markdown",
   "metadata": {},
   "source": [
    "# Non-Separable Case\n",
    "\n",
    "Now, let's do the same thing, but with the non-separable case.\n",
    "\n",
    "We expect to get $\\langle \\frac{\\partial H_1}{\\partial\\lambda} \\rangle + \\langle \\frac{\\partial H_2}{\\partial\\lambda} \\rangle$."
   ]
  },
  {
   "cell_type": "code",
   "execution_count": 297,
   "metadata": {
    "collapsed": false
   },
   "outputs": [],
   "source": [
    "dAT_1_ns = expand(simplify(simplify_integral(diff(gen_delta_A_mv(1, seperable=False, component='ATotal'), l))))\n",
    "dAT_2_ns = expand(simplify(simplify_integral(diff(gen_delta_A_mv(2, seperable=False, component='ATotal'), l))))\n",
    "dAT_3_ns = expand(simplify(simplify_integral(diff(gen_delta_A_mv(3, seperable=False, component='ATotal'), l))))x\n",
    "# only to rhird order to save time\n",
    "#dAT_4_ns = expand(simplify(simplify_integral(diff(gen_delta_A_mv(4, seperable=True, component='ATotal'), l))))"
   ]
  },
  {
   "cell_type": "code",
   "execution_count": 298,
   "metadata": {
    "collapsed": false
   },
   "outputs": [
    {
     "data": {
      "image/png": "[encoded data removed]",
      "text/latex": [
       "$$E{\\left (\\frac{\\partial}{\\partial \\lambda} \\operatorname{H_{1}}{\\left (x,\\lambda \\right )} \\right )} + E{\\left (\\frac{\\partial}{\\partial \\lambda} \\operatorname{H_{2}}{\\left (x,\\lambda \\right )} \\right )} + O{\\left (\\beta \\right )}$$"
      ],
      "text/plain": [
       " ⎛∂           ⎞    ⎛∂           ⎞       \n",
       "E⎜──(H₁(x, λ))⎟ + E⎜──(H₂(x, λ))⎟ + O(β)\n",
       " ⎝∂λ          ⎠    ⎝∂λ          ⎠       "
      ]
     },
     "execution_count": 298,
     "metadata": {},
     "output_type": "execute_result"
    }
   ],
   "source": [
    "truncate_order(expand(simplify(crawl(dAT_1_ns, extract_expectation_mv))), 1)"
   ]
  },
  {
   "cell_type": "code",
   "execution_count": 299,
   "metadata": {
    "collapsed": false
   },
   "outputs": [
    {
     "data": {
      "image/png": "[encoded data removed]",
      "text/latex": [
       "$$E{\\left (\\frac{\\partial}{\\partial \\lambda} \\operatorname{H_{1}}{\\left (x,\\lambda \\right )} \\right )} + E{\\left (\\frac{\\partial}{\\partial \\lambda} \\operatorname{H_{2}}{\\left (x,\\lambda \\right )} \\right )} + O{\\left (\\beta^{2} \\right )}$$"
      ],
      "text/plain": [
       " ⎛∂           ⎞    ⎛∂           ⎞    ⎛ 2⎞\n",
       "E⎜──(H₁(x, λ))⎟ + E⎜──(H₂(x, λ))⎟ + O⎝β ⎠\n",
       " ⎝∂λ          ⎠    ⎝∂λ          ⎠        "
      ]
     },
     "execution_count": 299,
     "metadata": {},
     "output_type": "execute_result"
    }
   ],
   "source": [
    "truncate_order(expand(simplify(crawl(dAT_2_ns, extract_expectation_mv))), 2)"
   ]
  },
  {
   "cell_type": "code",
   "execution_count": 300,
   "metadata": {
    "collapsed": false
   },
   "outputs": [
    {
     "data": {
      "image/png": "[encoded data removed]",
      "text/latex": [
       "$$E{\\left (\\frac{\\partial}{\\partial \\lambda} \\operatorname{H_{1}}{\\left (x,\\lambda \\right )} \\right )} + E{\\left (\\frac{\\partial}{\\partial \\lambda} \\operatorname{H_{2}}{\\left (x,\\lambda \\right )} \\right )} + O{\\left (\\beta^{3} \\right )}$$"
      ],
      "text/plain": [
       " ⎛∂           ⎞    ⎛∂           ⎞    ⎛ 3⎞\n",
       "E⎜──(H₁(x, λ))⎟ + E⎜──(H₂(x, λ))⎟ + O⎝β ⎠\n",
       " ⎝∂λ          ⎠    ⎝∂λ          ⎠        "
      ]
     },
     "execution_count": 300,
     "metadata": {},
     "output_type": "execute_result"
    }
   ],
   "source": [
    "truncate_order(expand(simplify(crawl(dAT_3_ns, extract_expectation_mv))), 3)"
   ]
  },
  {
   "cell_type": "markdown",
   "metadata": {},
   "source": [
    "Good, we got the expected result, although that was mostly just a sanity check.\n",
    "\n",
    "Now, for the real test let's compute $\\frac{\\partial}{\\partial\\lambda}A_1$. We've assumed a particular spltting of the cumulant expansion and now we're going to see what we get for the derivative in the cass where we have arbitrary $\\lambda$ depedence. The hope is that we get some simple expression that looks like $\\langle \\frac{\\partial H_1}{\\partial\\lambda} \\rangle$ with a correction that contains only a few low order terms."
   ]
  },
  {
   "cell_type": "code",
   "execution_count": 305,
   "metadata": {
    "collapsed": true
   },
   "outputs": [],
   "source": [
    "dA1_1_ns = expand(simplify(simplify_integral(diff(gen_delta_A_mv(1, seperable=False, component='A1'), l))))\n",
    "dA1_2_ns = expand(simplify(simplify_integral(diff(gen_delta_A_mv(2, seperable=False, component='A1'), l))))\n",
    "dA1_3_ns = expand(simplify(simplify_integral(diff(gen_delta_A_mv(3, seperable=False, component='A1'), l))))\n",
    "dA1_4_ns = expand(simplify(simplify_integral(diff(gen_delta_A_mv(4, seperable=False, component='A1'), l))))"
   ]
  },
  {
   "cell_type": "code",
   "execution_count": 306,
   "metadata": {
    "collapsed": false
   },
   "outputs": [
    {
     "data": {
      "image/png": "[encoded data removed]",
      "text/latex": [
       "$$E{\\left (\\frac{\\partial}{\\partial \\lambda} \\operatorname{H_{1}}{\\left (x,\\lambda \\right )} \\right )} + O{\\left (\\beta \\right )}$$"
      ],
      "text/plain": [
       " ⎛∂           ⎞       \n",
       "E⎜──(H₁(x, λ))⎟ + O(β)\n",
       " ⎝∂λ          ⎠       "
      ]
     },
     "execution_count": 306,
     "metadata": {},
     "output_type": "execute_result"
    }
   ],
   "source": [
    "truncate_order(expand(simplify(crawl(dA1_1_ns, extract_expectation_mv))), 1)"
   ]
  },
  {
   "cell_type": "code",
   "execution_count": 307,
   "metadata": {
    "collapsed": false
   },
   "outputs": [
    {
     "data": {
      "image/png": "[encoded data removed]",
      "text/latex": [
       "$$- \\frac{\\beta}{2} E{\\left (\\operatorname{H_{1}}{\\left (x,\\lambda \\right )} \\frac{\\partial}{\\partial \\lambda} \\operatorname{H_{2}}{\\left (x,\\lambda \\right )} \\right )} + \\frac{\\beta}{2} E{\\left (\\operatorname{H_{2}}{\\left (x,\\lambda \\right )} \\frac{\\partial}{\\partial \\lambda} \\operatorname{H_{1}}{\\left (x,\\lambda \\right )} \\right )} + \\frac{\\beta}{2} E{\\left (\\operatorname{H_{1}}{\\left (x,\\lambda \\right )} \\right )} E{\\left (\\frac{\\partial}{\\partial \\lambda} \\operatorname{H_{2}}{\\left (x,\\lambda \\right )} \\right )} - \\frac{\\beta}{2} E{\\left (\\operatorname{H_{2}}{\\left (x,\\lambda \\right )} \\right )} E{\\left (\\frac{\\partial}{\\partial \\lambda} \\operatorname{H_{1}}{\\left (x,\\lambda \\right )} \\right )} + E{\\left (\\frac{\\partial}{\\partial \\lambda} \\operatorname{H_{1}}{\\left (x,\\lambda \\right )} \\right )} + O{\\left (\\beta^{2} \\right )}$$"
      ],
      "text/plain": [
       "     ⎛         ∂           ⎞      ⎛         ∂           ⎞                  ⎛∂ \n",
       "  β⋅E⎜H₁(x, λ)⋅──(H₂(x, λ))⎟   β⋅E⎜H₂(x, λ)⋅──(H₁(x, λ))⎟   β⋅E(H₁(x, λ))⋅E⎜──\n",
       "     ⎝         ∂λ          ⎠      ⎝         ∂λ          ⎠                  ⎝∂λ\n",
       "- ────────────────────────── + ────────────────────────── + ──────────────────\n",
       "              2                            2                              2   \n",
       "\n",
       "          ⎞                  ⎛∂           ⎞                          \n",
       "(H₂(x, λ))⎟   β⋅E(H₂(x, λ))⋅E⎜──(H₁(x, λ))⎟                          \n",
       "          ⎠                  ⎝∂λ          ⎠    ⎛∂           ⎞    ⎛ 2⎞\n",
       "─────────── - ───────────────────────────── + E⎜──(H₁(x, λ))⎟ + O⎝β ⎠\n",
       "                            2                  ⎝∂λ          ⎠        "
      ]
     },
     "execution_count": 307,
     "metadata": {},
     "output_type": "execute_result"
    }
   ],
   "source": [
    "truncate_order(expand(simplify(crawl(dA1_2_ns, extract_expectation_mv))), 2)"
   ]
  },
  {
   "cell_type": "code",
   "execution_count": 308,
   "metadata": {
    "collapsed": false
   },
   "outputs": [
    {
     "data": {
      "image/png": "[encoded data removed]",
      "text/latex": [
       "$$- \\frac{\\beta}{2} E{\\left (\\operatorname{H_{1}}{\\left (x,\\lambda \\right )} \\frac{\\partial}{\\partial \\lambda} \\operatorname{H_{2}}{\\left (x,\\lambda \\right )} \\right )} + \\frac{\\beta}{2} E{\\left (\\operatorname{H_{2}}{\\left (x,\\lambda \\right )} \\frac{\\partial}{\\partial \\lambda} \\operatorname{H_{1}}{\\left (x,\\lambda \\right )} \\right )} + \\frac{\\beta}{2} E{\\left (\\operatorname{H_{1}}{\\left (x,\\lambda \\right )} \\right )} E{\\left (\\frac{\\partial}{\\partial \\lambda} \\operatorname{H_{2}}{\\left (x,\\lambda \\right )} \\right )} - \\frac{\\beta}{2} E{\\left (\\operatorname{H_{2}}{\\left (x,\\lambda \\right )} \\right )} E{\\left (\\frac{\\partial}{\\partial \\lambda} \\operatorname{H_{1}}{\\left (x,\\lambda \\right )} \\right )} + E{\\left (\\frac{\\partial}{\\partial \\lambda} \\operatorname{H_{1}}{\\left (x,\\lambda \\right )} \\right )} + O{\\left (\\beta^{3} \\right )}$$"
      ],
      "text/plain": [
       "     ⎛         ∂           ⎞      ⎛         ∂           ⎞                  ⎛∂ \n",
       "  β⋅E⎜H₁(x, λ)⋅──(H₂(x, λ))⎟   β⋅E⎜H₂(x, λ)⋅──(H₁(x, λ))⎟   β⋅E(H₁(x, λ))⋅E⎜──\n",
       "     ⎝         ∂λ          ⎠      ⎝         ∂λ          ⎠                  ⎝∂λ\n",
       "- ────────────────────────── + ────────────────────────── + ──────────────────\n",
       "              2                            2                              2   \n",
       "\n",
       "          ⎞                  ⎛∂           ⎞                          \n",
       "(H₂(x, λ))⎟   β⋅E(H₂(x, λ))⋅E⎜──(H₁(x, λ))⎟                          \n",
       "          ⎠                  ⎝∂λ          ⎠    ⎛∂           ⎞    ⎛ 3⎞\n",
       "─────────── - ───────────────────────────── + E⎜──(H₁(x, λ))⎟ + O⎝β ⎠\n",
       "                            2                  ⎝∂λ          ⎠        "
      ]
     },
     "execution_count": 308,
     "metadata": {},
     "output_type": "execute_result"
    }
   ],
   "source": [
    "truncate_order(expand(simplify(crawl(dA1_3_ns, extract_expectation_mv))), 3)"
   ]
  },
  {
   "cell_type": "code",
   "execution_count": 309,
   "metadata": {
    "collapsed": false
   },
   "outputs": [
    {
     "data": {
      "image/png": "[encoded data removed]",
      "text/latex": [
       "$$- \\frac{\\beta}{2} E{\\left (\\operatorname{H_{1}}{\\left (x,\\lambda \\right )} \\frac{\\partial}{\\partial \\lambda} \\operatorname{H_{2}}{\\left (x,\\lambda \\right )} \\right )} + \\frac{\\beta}{2} E{\\left (\\operatorname{H_{2}}{\\left (x,\\lambda \\right )} \\frac{\\partial}{\\partial \\lambda} \\operatorname{H_{1}}{\\left (x,\\lambda \\right )} \\right )} + \\frac{\\beta}{2} E{\\left (\\operatorname{H_{1}}{\\left (x,\\lambda \\right )} \\right )} E{\\left (\\frac{\\partial}{\\partial \\lambda} \\operatorname{H_{2}}{\\left (x,\\lambda \\right )} \\right )} - \\frac{\\beta}{2} E{\\left (\\operatorname{H_{2}}{\\left (x,\\lambda \\right )} \\right )} E{\\left (\\frac{\\partial}{\\partial \\lambda} \\operatorname{H_{1}}{\\left (x,\\lambda \\right )} \\right )} + E{\\left (\\frac{\\partial}{\\partial \\lambda} \\operatorname{H_{1}}{\\left (x,\\lambda \\right )} \\right )} + O{\\left (\\beta^{4} \\right )}$$"
      ],
      "text/plain": [
       "     ⎛         ∂           ⎞      ⎛         ∂           ⎞                  ⎛∂ \n",
       "  β⋅E⎜H₁(x, λ)⋅──(H₂(x, λ))⎟   β⋅E⎜H₂(x, λ)⋅──(H₁(x, λ))⎟   β⋅E(H₁(x, λ))⋅E⎜──\n",
       "     ⎝         ∂λ          ⎠      ⎝         ∂λ          ⎠                  ⎝∂λ\n",
       "- ────────────────────────── + ────────────────────────── + ──────────────────\n",
       "              2                            2                              2   \n",
       "\n",
       "          ⎞                  ⎛∂           ⎞                          \n",
       "(H₂(x, λ))⎟   β⋅E(H₂(x, λ))⋅E⎜──(H₁(x, λ))⎟                          \n",
       "          ⎠                  ⎝∂λ          ⎠    ⎛∂           ⎞    ⎛ 4⎞\n",
       "─────────── - ───────────────────────────── + E⎜──(H₁(x, λ))⎟ + O⎝β ⎠\n",
       "                            2                  ⎝∂λ          ⎠        "
      ]
     },
     "execution_count": 309,
     "metadata": {},
     "output_type": "execute_result"
    }
   ],
   "source": [
    "truncate_order(expand(simplify(crawl(dA1_4_ns, extract_expectation_mv))), 4)"
   ]
  },
  {
   "cell_type": "markdown",
   "metadata": {},
   "source": [
    "Sweet! Our conjecture is correct. This gives us a way to provide the same splitting for arbitrary paths and it only involves computing two covariances."
   ]
  },
  {
   "cell_type": "markdown",
   "metadata": {},
   "source": [
    "# Predictive coefficients\n",
    "\n",
    "One thing we may wish to do is to predict the free energy with a certain component set to zero from a simulation where all components are scaled. This leads to a prediction error:\n",
    "\\begin{equation}\n",
    "\\epsilon = \\Delta A_1 - \\left( \\Delta A_{T, 1, 1, 1} - \\Delta A_{T, 1, 0, 1} \\right),\n",
    "\\end{equation}\n",
    "\n",
    "where the subscripts on the $A_T$ terms indicate the presence or absence of $H_0$, $H_1$, and $H_2$.\n",
    "\n",
    "The Brady-like splitting above is not ideal for this prediction, as the coupling between $H_1$ and the other Hamilontian terms is spread \"evenly\", so the $\\Delta A_1$ terms will not fully cancel with terms from $\\Delta_{T, 1, 1, 1}$.\n",
    "\n",
    "Another splitting that would be better for this prediction is for _all_ components containing $H_1$ to end up in $\\Delta A_1$. In this case, $\\Delta A_1$ will fully cancel with $\\Delta_{T, 1, 1, 1}$. This will leave $\\epsilon$ as the difference between the cumulant terms not containing $H_1$ evaluated in two different ensembles. The downside is that the sum of the components is no longer the total free energy, as we've counted some of the components multiple times.\n",
    "\n",
    "Now, le's see what we get as a derivative."
   ]
  },
  {
   "cell_type": "code",
   "execution_count": 322,
   "metadata": {
    "collapsed": false
   },
   "outputs": [
    {
     "data": {
      "image/png": "[encoded data removed]",
      "text/latex": [
       "$$O{\\left (\\beta \\right )} + \\frac{\\int \\operatorname{H_{1}}{\\left (x,\\lambda \\right )}\\, dx}{\\int 1\\, dx}$$"
      ],
      "text/plain": [
       "       ⌠            \n",
       "       ⎮ H₁(x, λ) dx\n",
       "       ⌡            \n",
       "O(β) + ─────────────\n",
       "           ⌠        \n",
       "           ⎮ 1 dx   \n",
       "           ⌡        "
      ]
     },
     "execution_count": 322,
     "metadata": {},
     "output_type": "execute_result"
    }
   ],
   "source": [
    "A1_1_pred = gen_delta_A_mv(1, seperable=False, component='A1pred')\n",
    "truncate_order(simplify_integral(A1_1_pred), 1)"
   ]
  },
  {
   "cell_type": "code",
   "execution_count": 329,
   "metadata": {
    "collapsed": false
   },
   "outputs": [
    {
     "data": {
      "image/png": "[encoded data removed]",
      "text/latex": [
       "$$\\beta E{\\left (\\operatorname{H_{0}}{\\left (x \\right )} \\operatorname{H_{1}}{\\left (x,\\lambda \\right )} \\right )} + \\beta E{\\left (\\operatorname{H_{1}}{\\left (x,\\lambda \\right )} \\operatorname{H_{2}}{\\left (x,\\lambda \\right )} \\right )} - \\beta E{\\left (\\operatorname{H_{0}}{\\left (x \\right )} \\right )} E{\\left (\\operatorname{H_{1}}{\\left (x,\\lambda \\right )} \\right )} - \\frac{\\beta}{2} E^{2}{\\left (\\operatorname{H_{1}}{\\left (x,\\lambda \\right )} \\right )} - \\beta E{\\left (\\operatorname{H_{1}}{\\left (x,\\lambda \\right )} \\right )} E{\\left (\\operatorname{H_{2}}{\\left (x,\\lambda \\right )} \\right )} + \\frac{\\beta}{2} E{\\left (\\operatorname{H_{1}}^{2}{\\left (x,\\lambda \\right )} \\right )} + E{\\left (\\operatorname{H_{1}}{\\left (x,\\lambda \\right )} \\right )} + O{\\left (\\beta^{2} \\right )}$$"
      ],
      "text/plain": [
       "                                                                           2  \n",
       "                                                                        β⋅E (H\n",
       "β⋅E(H₀(x)⋅H₁(x, λ)) + β⋅E(H₁(x, λ)⋅H₂(x, λ)) - β⋅E(H₀(x))⋅E(H₁(x, λ)) - ──────\n",
       "                                                                              \n",
       "\n",
       "                                          ⎛  2      ⎞                      \n",
       "₁(x, λ))                               β⋅E⎝H₁ (x, λ)⎠                  ⎛ 2⎞\n",
       "──────── - β⋅E(H₁(x, λ))⋅E(H₂(x, λ)) + ────────────── + E(H₁(x, λ)) + O⎝β ⎠\n",
       "2                                            2                             "
      ]
     },
     "execution_count": 329,
     "metadata": {},
     "output_type": "execute_result"
    }
   ],
   "source": [
    "A1_2_pred = gen_delta_A_mv(2, seperable=False, component='A1pred')\n",
    "truncate_order(crawl(simplify_integral(A1_2_pred), extract_expectation_mv), 2)"
   ]
  },
  {
   "cell_type": "code",
   "execution_count": 330,
   "metadata": {
    "collapsed": false
   },
   "outputs": [
    {
     "data": {
      "image/png": "[encoded data removed]",
      "text/latex": [
       "$$\\beta E{\\left (\\operatorname{H_{0}}{\\left (x \\right )} \\operatorname{H_{1}}{\\left (x,\\lambda \\right )} \\right )} + \\beta E{\\left (\\operatorname{H_{1}}{\\left (x,\\lambda \\right )} \\operatorname{H_{2}}{\\left (x,\\lambda \\right )} \\right )} - \\beta E{\\left (\\operatorname{H_{0}}{\\left (x \\right )} \\right )} E{\\left (\\operatorname{H_{1}}{\\left (x,\\lambda \\right )} \\right )} - \\frac{\\beta}{2} E^{2}{\\left (\\operatorname{H_{1}}{\\left (x,\\lambda \\right )} \\right )} - \\beta E{\\left (\\operatorname{H_{1}}{\\left (x,\\lambda \\right )} \\right )} E{\\left (\\operatorname{H_{2}}{\\left (x,\\lambda \\right )} \\right )} + \\frac{\\beta}{2} E{\\left (\\operatorname{H_{1}}^{2}{\\left (x,\\lambda \\right )} \\right )} + E{\\left (\\operatorname{H_{1}}{\\left (x,\\lambda \\right )} \\right )} + O{\\left (\\beta^{3} \\right )}$$"
      ],
      "text/plain": [
       "                                                                           2  \n",
       "                                                                        β⋅E (H\n",
       "β⋅E(H₀(x)⋅H₁(x, λ)) + β⋅E(H₁(x, λ)⋅H₂(x, λ)) - β⋅E(H₀(x))⋅E(H₁(x, λ)) - ──────\n",
       "                                                                              \n",
       "\n",
       "                                          ⎛  2      ⎞                      \n",
       "₁(x, λ))                               β⋅E⎝H₁ (x, λ)⎠                  ⎛ 3⎞\n",
       "──────── - β⋅E(H₁(x, λ))⋅E(H₂(x, λ)) + ────────────── + E(H₁(x, λ)) + O⎝β ⎠\n",
       "2                                            2                             "
      ]
     },
     "execution_count": 330,
     "metadata": {},
     "output_type": "execute_result"
    }
   ],
   "source": [
    "A1_3_pred = gen_delta_A_mv(3, seperable=False, component='A1pred')\n",
    "truncate_order(crawl(simplify_integral(A1_3_pred), extract_expectation_mv), 3)"
   ]
  },
  {
   "cell_type": "code",
   "execution_count": 335,
   "metadata": {
    "collapsed": true
   },
   "outputs": [],
   "source": [
    "dA1_1_pred = expand(simplify(simplify_integral(diff(gen_delta_A_mv(1, seperable=False, component='A1pred'), l))))\n",
    "dA1_2_pred = expand(simplify(simplify_integral(diff(gen_delta_A_mv(2, seperable=False, component='A1pred'), l))))\n",
    "dA1_3_pred = expand(simplify(simplify_integral(diff(gen_delta_A_mv(3, seperable=False, component='A1pred'), l))))\n",
    "dA1_4_pred = expand(simplify(simplify_integral(diff(gen_delta_A_mv(4, seperable=False, component='A1pred'), l))))"
   ]
  },
  {
   "cell_type": "code",
   "execution_count": 336,
   "metadata": {
    "collapsed": false
   },
   "outputs": [
    {
     "data": {
      "image/png": "[encoded data removed]",
      "text/latex": [
       "$$E{\\left (\\frac{\\partial}{\\partial \\lambda} \\operatorname{H_{1}}{\\left (x,\\lambda \\right )} \\right )} + O{\\left (\\beta \\right )}$$"
      ],
      "text/plain": [
       " ⎛∂           ⎞       \n",
       "E⎜──(H₁(x, λ))⎟ + O(β)\n",
       " ⎝∂λ          ⎠       "
      ]
     },
     "execution_count": 336,
     "metadata": {},
     "output_type": "execute_result"
    }
   ],
   "source": [
    "truncate_order(expand(simplify(crawl(dA1_1_pred, extract_expectation_mv))), 1)"
   ]
  },
  {
   "cell_type": "code",
   "execution_count": 337,
   "metadata": {
    "collapsed": false
   },
   "outputs": [
    {
     "data": {
      "image/png": "[encoded data removed]",
      "text/latex": [
       "$$\\beta E{\\left (\\operatorname{H_{0}}{\\left (x \\right )} \\frac{\\partial}{\\partial \\lambda} \\operatorname{H_{1}}{\\left (x,\\lambda \\right )} \\right )} + \\beta E{\\left (\\operatorname{H_{2}}{\\left (x,\\lambda \\right )} \\frac{\\partial}{\\partial \\lambda} \\operatorname{H_{1}}{\\left (x,\\lambda \\right )} \\right )} - \\beta E{\\left (\\operatorname{H_{0}}{\\left (x \\right )} \\right )} E{\\left (\\frac{\\partial}{\\partial \\lambda} \\operatorname{H_{1}}{\\left (x,\\lambda \\right )} \\right )} - \\beta E{\\left (\\operatorname{H_{2}}{\\left (x,\\lambda \\right )} \\right )} E{\\left (\\frac{\\partial}{\\partial \\lambda} \\operatorname{H_{1}}{\\left (x,\\lambda \\right )} \\right )} + E{\\left (\\frac{\\partial}{\\partial \\lambda} \\operatorname{H_{1}}{\\left (x,\\lambda \\right )} \\right )} + O{\\left (\\beta^{2} \\right )}$$"
      ],
      "text/plain": [
       "   ⎛      ∂           ⎞      ⎛         ∂           ⎞               ⎛∂         \n",
       "β⋅E⎜H₀(x)⋅──(H₁(x, λ))⎟ + β⋅E⎜H₂(x, λ)⋅──(H₁(x, λ))⎟ - β⋅E(H₀(x))⋅E⎜──(H₁(x, λ\n",
       "   ⎝      ∂λ          ⎠      ⎝         ∂λ          ⎠               ⎝∂λ        \n",
       "\n",
       "  ⎞                  ⎛∂           ⎞    ⎛∂           ⎞    ⎛ 2⎞\n",
       "))⎟ - β⋅E(H₂(x, λ))⋅E⎜──(H₁(x, λ))⎟ + E⎜──(H₁(x, λ))⎟ + O⎝β ⎠\n",
       "  ⎠                  ⎝∂λ          ⎠    ⎝∂λ          ⎠        "
      ]
     },
     "execution_count": 337,
     "metadata": {},
     "output_type": "execute_result"
    }
   ],
   "source": [
    "truncate_order(expand(simplify(crawl(dA1_2_pred, extract_expectation_mv))), 2)"
   ]
  },
  {
   "cell_type": "code",
   "execution_count": 338,
   "metadata": {
    "collapsed": false
   },
   "outputs": [
    {
     "data": {
      "image/png": "[encoded data removed]",
      "text/latex": [
       "$$\\beta E{\\left (\\operatorname{H_{0}}{\\left (x \\right )} \\frac{\\partial}{\\partial \\lambda} \\operatorname{H_{1}}{\\left (x,\\lambda \\right )} \\right )} + \\beta E{\\left (\\operatorname{H_{2}}{\\left (x,\\lambda \\right )} \\frac{\\partial}{\\partial \\lambda} \\operatorname{H_{1}}{\\left (x,\\lambda \\right )} \\right )} - \\beta E{\\left (\\operatorname{H_{0}}{\\left (x \\right )} \\right )} E{\\left (\\frac{\\partial}{\\partial \\lambda} \\operatorname{H_{1}}{\\left (x,\\lambda \\right )} \\right )} - \\beta E{\\left (\\operatorname{H_{2}}{\\left (x,\\lambda \\right )} \\right )} E{\\left (\\frac{\\partial}{\\partial \\lambda} \\operatorname{H_{1}}{\\left (x,\\lambda \\right )} \\right )} + E{\\left (\\frac{\\partial}{\\partial \\lambda} \\operatorname{H_{1}}{\\left (x,\\lambda \\right )} \\right )} + O{\\left (\\beta^{3} \\right )}$$"
      ],
      "text/plain": [
       "   ⎛      ∂           ⎞      ⎛         ∂           ⎞               ⎛∂         \n",
       "β⋅E⎜H₀(x)⋅──(H₁(x, λ))⎟ + β⋅E⎜H₂(x, λ)⋅──(H₁(x, λ))⎟ - β⋅E(H₀(x))⋅E⎜──(H₁(x, λ\n",
       "   ⎝      ∂λ          ⎠      ⎝         ∂λ          ⎠               ⎝∂λ        \n",
       "\n",
       "  ⎞                  ⎛∂           ⎞    ⎛∂           ⎞    ⎛ 3⎞\n",
       "))⎟ - β⋅E(H₂(x, λ))⋅E⎜──(H₁(x, λ))⎟ + E⎜──(H₁(x, λ))⎟ + O⎝β ⎠\n",
       "  ⎠                  ⎝∂λ          ⎠    ⎝∂λ          ⎠        "
      ]
     },
     "execution_count": 338,
     "metadata": {},
     "output_type": "execute_result"
    }
   ],
   "source": [
    "truncate_order(expand(simplify(crawl(dA1_3_pred, extract_expectation_mv))), 3)"
   ]
  },
  {
   "cell_type": "code",
   "execution_count": 339,
   "metadata": {
    "collapsed": false
   },
   "outputs": [
    {
     "data": {
      "image/png": "[encoded data removed]",
      "text/latex": [
       "$$\\beta E{\\left (\\operatorname{H_{0}}{\\left (x \\right )} \\frac{\\partial}{\\partial \\lambda} \\operatorname{H_{1}}{\\left (x,\\lambda \\right )} \\right )} + \\beta E{\\left (\\operatorname{H_{2}}{\\left (x,\\lambda \\right )} \\frac{\\partial}{\\partial \\lambda} \\operatorname{H_{1}}{\\left (x,\\lambda \\right )} \\right )} - \\beta E{\\left (\\operatorname{H_{0}}{\\left (x \\right )} \\right )} E{\\left (\\frac{\\partial}{\\partial \\lambda} \\operatorname{H_{1}}{\\left (x,\\lambda \\right )} \\right )} - \\beta E{\\left (\\operatorname{H_{2}}{\\left (x,\\lambda \\right )} \\right )} E{\\left (\\frac{\\partial}{\\partial \\lambda} \\operatorname{H_{1}}{\\left (x,\\lambda \\right )} \\right )} + E{\\left (\\frac{\\partial}{\\partial \\lambda} \\operatorname{H_{1}}{\\left (x,\\lambda \\right )} \\right )} + O{\\left (\\beta^{4} \\right )}$$"
      ],
      "text/plain": [
       "   ⎛      ∂           ⎞      ⎛         ∂           ⎞               ⎛∂         \n",
       "β⋅E⎜H₀(x)⋅──(H₁(x, λ))⎟ + β⋅E⎜H₂(x, λ)⋅──(H₁(x, λ))⎟ - β⋅E(H₀(x))⋅E⎜──(H₁(x, λ\n",
       "   ⎝      ∂λ          ⎠      ⎝         ∂λ          ⎠               ⎝∂λ        \n",
       "\n",
       "  ⎞                  ⎛∂           ⎞    ⎛∂           ⎞    ⎛ 4⎞\n",
       "))⎟ - β⋅E(H₂(x, λ))⋅E⎜──(H₁(x, λ))⎟ + E⎜──(H₁(x, λ))⎟ + O⎝β ⎠\n",
       "  ⎠                  ⎝∂λ          ⎠    ⎝∂λ          ⎠        "
      ]
     },
     "execution_count": 339,
     "metadata": {},
     "output_type": "execute_result"
    }
   ],
   "source": [
    "truncate_order(expand(simplify(crawl(dA1_4_pred, extract_expectation_mv))), 4)"
   ]
  },
  {
   "cell_type": "markdown",
   "metadata": {},
   "source": [
    "So, this looks good. We correct $\\langle \\frac{\\partial H_1}{\\partial\\lambda} \\rangle$ by some covariances involving the other Hamiltonain components."
   ]
  },
  {
   "cell_type": "code",
   "execution_count": null,
   "metadata": {
    "collapsed": true
   },
   "outputs": [],
   "source": []
  }
 ],
 "metadata": {
  "kernelspec": {
   "display_name": "Python 2",
   "language": "python",
   "name": "python2"
  },
  "language_info": {
   "codemirror_mode": {
    "name": "ipython",
    "version": 2
   },
   "file_extension": ".py",
   "mimetype": "text/x-python",
   "name": "python",
   "nbconvert_exporter": "python",
   "pygments_lexer": "ipython2",
   "version": "2.7.12"
  }
 },
 "nbformat": 4,
 "nbformat_minor": 0
}
